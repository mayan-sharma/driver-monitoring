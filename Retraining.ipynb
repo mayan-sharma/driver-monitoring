{
 "cells": [
  {
   "cell_type": "code",
   "execution_count": 1,
   "id": "a0d7bba2",
   "metadata": {},
   "outputs": [],
   "source": [
    "import multiprocessing\n",
    "import dlib\n",
    "import cv2\n",
    "import imutils\n",
    "from imutils import face_utils\n",
    "from scipy.spatial import distance as dist\n",
    "import time"
   ]
  },
  {
   "cell_type": "markdown",
   "id": "13b2208d",
   "metadata": {},
   "source": [
    "## Hyperparameters\n",
    "\n",
    "- tree_depth: 2^tree_depth leaves in each regression tree\n",
    "- nu: regularization factor [0,1]\n",
    "- cascade_depth: \n",
    "- feature_pool_size\n",
    "- num_test_splits\n",
    "- oversampling_amount\n",
    "- oversampling_translation_jitter"
   ]
  },
  {
   "cell_type": "code",
   "execution_count": 2,
   "id": "3e96e794",
   "metadata": {},
   "outputs": [],
   "source": [
    "# default options\n",
    "options = dlib.shape_predictor_training_options()\n",
    "\n",
    "# hyperparameters\n",
    "options.tree_depth = 4\n",
    "options.nu = 0.1\n",
    "options.cascade_depth = 15\n",
    "options.feature_pool_size = 400\n",
    "options.num_test_splits = 50\n",
    "options.oversampling_amount = 5\n",
    "options.oversampling_translation_jitter = 0.1\n",
    "\n",
    "# does not affect the model\n",
    "options.be_verbose = True\n",
    "\n",
    "# cores used while traning\n",
    "options.num_threads = multiprocessing.cpu_count()"
   ]
  },
  {
   "cell_type": "markdown",
   "id": "c30070f7",
   "metadata": {},
   "source": [
    "## Training the model"
   ]
  },
  {
   "cell_type": "code",
   "execution_count": null,
   "id": "1e331888",
   "metadata": {},
   "outputs": [],
   "source": [
    "trainingData = 'datasets/ibug_300W_large_face_landmark_dataset/labels_ibug_300W_train_eyes_eyebrows.xml'\n",
    "model = 'eye_eyebrows_predictor.dat'"
   ]
  },
  {
   "cell_type": "markdown",
   "id": "7746ac1e",
   "metadata": {},
   "source": [
    "## Testing Accuracy"
   ]
  },
  {
   "cell_type": "code",
   "execution_count": 3,
   "id": "f8457166",
   "metadata": {},
   "outputs": [
    {
     "name": "stdout",
     "output_type": "stream",
     "text": [
      "[INFO] evaluation shape predictor on test data...\n",
      "[INFO] error: 8.751549491111657\n"
     ]
    }
   ],
   "source": [
    "model = 'models/eye_eyebrows_predictor.dat'\n",
    "training_data = 'datasets/ibug_300W_large_face_landmark_dataset/labels_ibug_300W_train_eyes_eyebrows.xml'\n",
    "test_data = 'datasets/ibug_300W_large_face_landmark_dataset/labels_ibug_300W_test_eyes_eyebrows.xml'"
   ]
  },
  {
   "cell_type": "code",
   "execution_count": null,
   "id": "e5882ec3",
   "metadata": {},
   "outputs": [],
   "source": [
    "print(\"[INFO] evaluation shape predictor on training data...\")\n",
    "error = dlib.test_shape_predictor(training_data, model)\n",
    "print(\"[INFO] error: {}\".format(error))"
   ]
  },
  {
   "cell_type": "markdown",
   "id": "146a8fdf",
   "metadata": {},
   "source": [
    "## Testing on Video Stream"
   ]
  },
  {
   "cell_type": "code",
   "execution_count": 3,
   "id": "dd62a342",
   "metadata": {},
   "outputs": [],
   "source": [
    "model = './models/eye_eyebrows_predictor.dat'\n",
    "\n",
    "detector = dlib.get_frontal_face_detector()\n",
    "predictor = dlib.shape_predictor(model)\n",
    "\n",
    "lStart, lEnd = 10, 16\n",
    "rStart, rEnd = 16, 22"
   ]
  },
  {
   "cell_type": "code",
   "execution_count": 4,
   "id": "93daa2e8",
   "metadata": {},
   "outputs": [],
   "source": [
    "# state\n",
    "EYE_AR_THRESHOLD = 0.3\n",
    "EYE_AR_CONSEC_FRAMES = 3\n",
    "DROWSY_CONSEC_FRAMES = 20\n",
    "\n",
    "HEAD_TILT_CONSEC_FRAMES = 20\n",
    "\n",
    "FRAME_COUNTER = 0\n",
    "BLINK_FLAG_COUNTER = 0\n",
    "DROWSY_FLAG_COUNTER = 0\n",
    "\n",
    "NO_BLINKS = 0\n",
    "LAST_BLINK = None\n",
    "BLINK_RATE_INTERVAL = 5"
   ]
  },
  {
   "cell_type": "code",
   "execution_count": 5,
   "id": "781be57d",
   "metadata": {},
   "outputs": [],
   "source": [
    "# utility functions\n",
    "\n",
    "# calcultes ear\n",
    "def eye_aspect_ratio(eye):\n",
    "    \n",
    "    A = dist.euclidean(eye[1], eye[5])\n",
    "    B = dist.euclidean(eye[2], eye[4])\n",
    "    \n",
    "    C = dist.euclidean(eye[0], eye[3])\n",
    "    \n",
    "    # eye aspect ratio\n",
    "    ear = (A + B) / (2 * C)\n",
    "    \n",
    "    return ear\n",
    "    \n",
    "# pre-process image (grayscale + histogram equalization)\n",
    "def pre_process(frame):\n",
    "    # convert frame to grayscale\n",
    "    gray = cv2.cvtColor(frame, cv2.COLOR_BGR2GRAY)\n",
    "    \n",
    "    # histogram equilization\n",
    "    image = cv2.equalizeHist(gray)\n",
    "    \n",
    "    return image"
   ]
  },
  {
   "cell_type": "code",
   "execution_count": 6,
   "id": "b16c7300",
   "metadata": {},
   "outputs": [],
   "source": [
    "video = cv2.VideoCapture(0)\n",
    "\n",
    "while True:\n",
    "    \n",
    "    FRAME_COUNTER += 1\n",
    "    # fetch check and frame\n",
    "    check, frame = video.read()\n",
    "    \n",
    "    # pre-process image (grayscale + histogram equalization)\n",
    "    image = pre_process(frame)\n",
    "    \n",
    "    # get faces from detector\n",
    "    faces = detector(image)\n",
    "    \n",
    "    # iterate over each face\n",
    "    for face in faces:\n",
    "\n",
    "        # returns all landmarks feature in face\n",
    "        landmarks = predictor(image, face)\n",
    "        \n",
    "        # convert landmarks object to numpy array\n",
    "        landmarks = face_utils.shape_to_np(landmarks)\n",
    "\n",
    "        # gets eyes from landmarks array (landmarks contains 68 points)\n",
    "        leftEye = landmarks[lStart: lEnd]\n",
    "        rightEye = landmarks[rStart: rEnd]\n",
    "        \n",
    "        x1, y1 = leftEye[3][0], leftEye[3][1]\n",
    "        x2, y2 = rightEye[0][0], rightEye[0][1]\n",
    "        slope = (y2-y1)/(x2-x1)\n",
    "        \n",
    "        # calculates ear for each eye\n",
    "        leftEAR = eye_aspect_ratio(leftEye)\n",
    "        rightEAR = eye_aspect_ratio(rightEye)\n",
    "        \n",
    "        # calculate average ear\n",
    "        ear = (leftEAR + rightEAR) / 2\n",
    "        \n",
    "        # gets convexHull for both eyes\n",
    "#         leftEyeHull = cv2.convexHull(leftEye)\n",
    "#         rightEyeHull = cv2.convexHull(rightEye)\n",
    "        \n",
    "        # draw contours around the eye\n",
    "#         cv2.drawContours(frame, [leftEyeHull], -1, (0, 255, 0), 1)\n",
    "#         cv2.drawContours(frame, [rightEyeHull], -1, (0, 255, 0), 1)\n",
    "        \n",
    "        # \n",
    "        if (LAST_BLINK is not None and ((time.time() - LAST_BLINK) > BLINK_RATE_INTERVAL)):\n",
    "            cv2.putText(frame, \"Gaze Detected!\", (220, 30), cv2.FONT_HERSHEY_SIMPLEX, 0.7, (0, 0, 255), 2)\n",
    "    \n",
    "        # if head tilt\n",
    "        if slope < -0.4 or slope > 0.4:\n",
    "            cv2.putText(frame, \"Keep your head straight!\", (200, 70), cv2.FONT_HERSHEY_SIMPLEX, 0.7, (0, 0, 255), 2)\n",
    "        \n",
    "        # if eye is closed\n",
    "        if ear < EYE_AR_THRESHOLD:\n",
    "            BLINK_FLAG_COUNTER += 1\n",
    "            DROWSY_FLAG_COUNTER += 1\n",
    "            \n",
    "            if (DROWSY_FLAG_COUNTER > DROWSY_CONSEC_FRAMES):\n",
    "                LAST_BLINK = None\n",
    "                cv2.putText(frame, \"Drowsiness Detected!\", (200, 30), cv2.FONT_HERSHEY_SIMPLEX, 0.7, (0, 0, 255), 2)\n",
    "                \n",
    "        else:\n",
    "            # if eye was closed for more than EYE_AR_CONSEC_FRAMES value\n",
    "            if BLINK_FLAG_COUNTER > EYE_AR_CONSEC_FRAMES:\n",
    "                NO_BLINKS += 1\n",
    "                LAST_BLINK = time.time()\n",
    "                \n",
    "            # reset FLAG_COUNTER\n",
    "            BLINK_FLAG_COUNTER = 0\n",
    "            DROWSY_FLAG_COUNTER = 0\n",
    "            \n",
    "        # prints blinks\n",
    "        cv2.putText(frame, \"Blinks: {}\".format(NO_BLINKS), (10, 30), cv2.FONT_HERSHEY_SIMPLEX, 0.7, (0, 0, 255), 2)\n",
    "            \n",
    "    \n",
    "    fps = video.get(cv2.CAP_PROP_FPS)\n",
    "    cv2.putText(frame, \"Fps: {}\".format(fps), (10, 60), cv2.FONT_HERSHEY_SIMPLEX, 0.7, (0, 0, 255), 2)\n",
    "    \n",
    "    # display frame\n",
    "    cv2.imshow('Frame', frame)\n",
    "    \n",
    "    # gets key pressed\n",
    "    key = cv2.waitKey(1)\n",
    "    \n",
    "    # breaks if key is q\n",
    "    if key == ord('q'):\n",
    "        break\n",
    "        \n",
    "video.release()\n",
    "cv2.destroyAllWindows()\n"
   ]
  },
  {
   "cell_type": "code",
   "execution_count": null,
   "id": "1240d5b9",
   "metadata": {},
   "outputs": [],
   "source": [
    "class Model:\n",
    "    def __init__(self):\n",
    "        return 1\n",
    "    \n",
    "    def train_landmark_detector(training_file, output_model):\n",
    "        print('[INFO] Training the landmark detector')\n",
    "        dlib.train_shape_predictor(trainingData, model, options)\n",
    "        \n",
    "    def test_landmark_detector(testing_data, model):\n",
    "        print(\"[INFO] evaluation shape predictor on test data...\")\n",
    "        error = dlib.test_shape_predictor(test_data, model)\n",
    "        print(\"[INFO] error: {}\".format(error))\n",
    "    \n",
    "    def set_state(state):\n",
    "        self.EYE_AR_THRESHOLD = 0.3\n",
    "        self.EYE_AR_CONSEC_FRAMES = 3\n",
    "        self.DROWSY_CONSEC_FRAMES = 20\n",
    "\n",
    "        self.HEAD_TILT_CONSEC_FRAMES = 20\n",
    "\n",
    "        self.FRAME_COUNTER = 0\n",
    "        self.BLINK_FLAG_COUNTER = 0\n",
    "        self.DROWSY_FLAG_COUNTER = 0\n",
    "\n",
    "        self.NO_BLINKS = 0\n",
    "        self.LAST_BLINK = None\n",
    "        self.BLINK_RATE_INTERVAL = 5"
   ]
  }
 ],
 "metadata": {
  "kernelspec": {
   "display_name": "Python 3",
   "language": "python",
   "name": "python3"
  },
  "language_info": {
   "codemirror_mode": {
    "name": "ipython",
    "version": 3
   },
   "file_extension": ".py",
   "mimetype": "text/x-python",
   "name": "python",
   "nbconvert_exporter": "python",
   "pygments_lexer": "ipython3",
   "version": "3.8.10"
  }
 },
 "nbformat": 4,
 "nbformat_minor": 5
}
